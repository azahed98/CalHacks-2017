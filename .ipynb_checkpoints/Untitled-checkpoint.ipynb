{
 "cells": [
  {
   "cell_type": "code",
   "execution_count": 27,
   "metadata": {
    "collapsed": false
   },
   "outputs": [],
   "source": [
    "import numpy as np\n",
    "import scipy\n",
    "import scipy.io.wavfile\n",
    "\n",
    "import matplotlib.pyplot as plot \n",
    "\n",
    "def audio_to_numpy(audio):\n",
    "    \"\"\"\n",
    "    convert audio file into a numpy array\n",
    "\n",
    "    @input audio <string>: audio file location\n",
    "\n",
    "    @return (rate, audio) <tuple>\n",
    "    rate <int>: sample rate of wav file\n",
    "    audio <np.array>: array format of audio\n",
    "    \"\"\"\n",
    "\n",
    "    if (audio[-4:] == \".wav\"):\n",
    "        return scipy.io.wavfile.read(audio)\n",
    "\n",
    "    raise AttributeError(\"Audio must be .wav file\")\n",
    "\n",
    "def audio_to_spect(rate, audio, nperseg=256):\n",
    "    \"\"\"\n",
    "    convert audio numpy array into a spectogram\n",
    "    \n",
    "    @input rate <int>: sample rate of wav file\n",
    "    @input audio <np.array>: array format of audio\n",
    "    @input nperseg <int>: number of \n",
    "    \n",
    "    @return <np.array>: 2D array of spectogram\n",
    "    \"\"\"\n",
    "    return scipy.signal.stft(audio, fs=rate, nperseg=nperseg)\n",
    "\n",
    "def spect_to_audio(rate, spect, nperseg=256):\n",
    "    \"\"\"\n",
    "    convert a spectogram array into an audio array\n",
    "    \n",
    "    @input spect <int>: sample rate of wav file\n",
    "    @input spect <np.array>: 2D array of spectogram\n",
    "    @input nperseg <int>: number of datapoints corresponding to each SFFT segment\n",
    "\n",
    "    @return <np.array>: array format of audio\n",
    "    \"\"\"\n",
    "    return scipy.signal.istft(spect, rate, nperseg=nperseg)"
   ]
  },
  {
   "cell_type": "code",
   "execution_count": 28,
   "metadata": {
    "collapsed": false
   },
   "outputs": [
    {
     "ename": "FileNotFoundError",
     "evalue": "[Errno 2] No such file or directory: '~/dev/CalHacks-2017/audio/AhCmonNowBaby.wav/'",
     "output_type": "error",
     "traceback": [
      "\u001b[0;31m---------------------------------------------------------------------------\u001b[0m",
      "\u001b[0;31mFileNotFoundError\u001b[0m                         Traceback (most recent call last)",
      "\u001b[0;32m<ipython-input-28-0c2391eb59d9>\u001b[0m in \u001b[0;36m<module>\u001b[0;34m()\u001b[0m\n\u001b[1;32m      1\u001b[0m \u001b[0maudio_loc\u001b[0m \u001b[0;34m=\u001b[0m \u001b[0;34m\"~/dev/CalHacks-2017/audio/AhCmonNowBaby.wav/\"\u001b[0m\u001b[0;34m\u001b[0m\u001b[0m\n\u001b[1;32m      2\u001b[0m \u001b[0;34m\u001b[0m\u001b[0m\n\u001b[0;32m----> 3\u001b[0;31m \u001b[0mrate\u001b[0m\u001b[0;34m,\u001b[0m \u001b[0maudio\u001b[0m \u001b[0;34m=\u001b[0m \u001b[0maudio_to_numpy\u001b[0m\u001b[0;34m(\u001b[0m\u001b[0maudio_loc\u001b[0m\u001b[0;34m)\u001b[0m\u001b[0;34m\u001b[0m\u001b[0m\n\u001b[0m\u001b[1;32m      4\u001b[0m \u001b[0mspect\u001b[0m\u001b[0;34m,\u001b[0m \u001b[0mt\u001b[0m\u001b[0;34m,\u001b[0m \u001b[0mZxx\u001b[0m \u001b[0;34m=\u001b[0m \u001b[0maudio_to_spect\u001b[0m\u001b[0;34m(\u001b[0m\u001b[0mrate\u001b[0m\u001b[0;34m,\u001b[0m \u001b[0maudio\u001b[0m\u001b[0;34m)\u001b[0m\u001b[0;34m\u001b[0m\u001b[0m\n\u001b[1;32m      5\u001b[0m \u001b[0mplt\u001b[0m\u001b[0;34m.\u001b[0m\u001b[0mfigure\u001b[0m\u001b[0;34m(\u001b[0m\u001b[0;34m)\u001b[0m\u001b[0;34m\u001b[0m\u001b[0m\n",
      "\u001b[0;32m<ipython-input-27-2149d65dfdd9>\u001b[0m in \u001b[0;36maudio_to_numpy\u001b[0;34m(audio)\u001b[0m\n\u001b[1;32m     18\u001b[0m         \u001b[0maudio\u001b[0m \u001b[0;34m=\u001b[0m \u001b[0maudio\u001b[0m\u001b[0;34m.\u001b[0m\u001b[0mappend\u001b[0m\u001b[0;34m(\u001b[0m\u001b[0;34m\"/\"\u001b[0m\u001b[0;34m)\u001b[0m\u001b[0;34m\u001b[0m\u001b[0m\n\u001b[1;32m     19\u001b[0m     \u001b[0;32mif\u001b[0m \u001b[0;34m(\u001b[0m\u001b[0maudio\u001b[0m\u001b[0;34m[\u001b[0m\u001b[0;34m-\u001b[0m\u001b[0;36m5\u001b[0m\u001b[0;34m:\u001b[0m\u001b[0;34m]\u001b[0m \u001b[0;34m==\u001b[0m \u001b[0;34m\".wav/\"\u001b[0m\u001b[0;34m)\u001b[0m\u001b[0;34m:\u001b[0m\u001b[0;34m\u001b[0m\u001b[0m\n\u001b[0;32m---> 20\u001b[0;31m         \u001b[0;32mreturn\u001b[0m \u001b[0mscipy\u001b[0m\u001b[0;34m.\u001b[0m\u001b[0mio\u001b[0m\u001b[0;34m.\u001b[0m\u001b[0mwavfile\u001b[0m\u001b[0;34m.\u001b[0m\u001b[0mread\u001b[0m\u001b[0;34m(\u001b[0m\u001b[0maudio\u001b[0m\u001b[0;34m)\u001b[0m\u001b[0;34m\u001b[0m\u001b[0m\n\u001b[0m\u001b[1;32m     21\u001b[0m \u001b[0;34m\u001b[0m\u001b[0m\n\u001b[1;32m     22\u001b[0m     \u001b[0;32mraise\u001b[0m \u001b[0mAttributeError\u001b[0m\u001b[0;34m(\u001b[0m\u001b[0;34m\"Audio must be .wav file\"\u001b[0m\u001b[0;34m)\u001b[0m\u001b[0;34m\u001b[0m\u001b[0m\n",
      "\u001b[0;32m/Users/arshzahed/anaconda/lib/python3.6/site-packages/scipy/io/wavfile.py\u001b[0m in \u001b[0;36mread\u001b[0;34m(filename, mmap)\u001b[0m\n\u001b[1;32m    231\u001b[0m         \u001b[0mmmap\u001b[0m \u001b[0;34m=\u001b[0m \u001b[0;32mFalse\u001b[0m\u001b[0;34m\u001b[0m\u001b[0m\n\u001b[1;32m    232\u001b[0m     \u001b[0;32melse\u001b[0m\u001b[0;34m:\u001b[0m\u001b[0;34m\u001b[0m\u001b[0m\n\u001b[0;32m--> 233\u001b[0;31m         \u001b[0mfid\u001b[0m \u001b[0;34m=\u001b[0m \u001b[0mopen\u001b[0m\u001b[0;34m(\u001b[0m\u001b[0mfilename\u001b[0m\u001b[0;34m,\u001b[0m \u001b[0;34m'rb'\u001b[0m\u001b[0;34m)\u001b[0m\u001b[0;34m\u001b[0m\u001b[0m\n\u001b[0m\u001b[1;32m    234\u001b[0m \u001b[0;34m\u001b[0m\u001b[0m\n\u001b[1;32m    235\u001b[0m     \u001b[0;32mtry\u001b[0m\u001b[0;34m:\u001b[0m\u001b[0;34m\u001b[0m\u001b[0m\n",
      "\u001b[0;31mFileNotFoundError\u001b[0m: [Errno 2] No such file or directory: '~/dev/CalHacks-2017/audio/AhCmonNowBaby.wav/'"
     ]
    }
   ],
   "source": [
    "audio_loc = \"~/dev/CalHacks-2017/audio/AhCmonNowBaby.wav/\"\n",
    "\n",
    "rate, audio = audio_to_numpy(audio_loc)\n",
    "spect, t, Zxx = audio_to_spect(rate, audio)\n",
    "plt.figure()\n",
    "plt.pcolormesh(t, spect, np.abs(Zxx), vmin=0, vmax=amp)\n",
    "plt.ylim([spect[1], f[-1]])"
   ]
  },
  {
   "cell_type": "code",
   "execution_count": null,
   "metadata": {
    "collapsed": true
   },
   "outputs": [],
   "source": []
  }
 ],
 "metadata": {
  "kernelspec": {
   "display_name": "Python 3",
   "language": "python",
   "name": "python3"
  },
  "language_info": {
   "codemirror_mode": {
    "name": "ipython",
    "version": 3
   },
   "file_extension": ".py",
   "mimetype": "text/x-python",
   "name": "python",
   "nbconvert_exporter": "python",
   "pygments_lexer": "ipython3",
   "version": "3.6.0"
  }
 },
 "nbformat": 4,
 "nbformat_minor": 2
}
