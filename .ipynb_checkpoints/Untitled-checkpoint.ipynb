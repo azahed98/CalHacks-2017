{
 "cells": [
  {
   "cell_type": "code",
   "execution_count": 81,
   "metadata": {
    "collapsed": false
   },
   "outputs": [],
   "source": [
    "import numpy as np\n",
    "import scipy\n",
    "import scipy.io.wavfile\n",
    "from scipy import signal\n",
    "import pandas as pd\n",
    "\n",
    "import matplotlib.pyplot as plt\n",
    "\n",
    "def audio_to_numpy(audio, mono=True):\n",
    "    \"\"\"\n",
    "    convert audio file into a numpy array\n",
    "\n",
    "    @input audio <string>: audio file location\n",
    "    @input mono <bool>: True if compress to mono, False to keep stereo\n",
    "    \n",
    "    @return (rate, audio) <tuple>\n",
    "    rate <int>: sample rate of wav file\n",
    "    audio <np.array>: array format of audio\n",
    "    \"\"\"\n",
    "    print(audio[-4:])\n",
    "    if (audio[-4:] == \".wav\"):\n",
    "        rate, arr = scipy.io.wavfile.read(audio)\n",
    "        if (mono):\n",
    "#             return (rate, arr.sum(axis=1) / 2)\n",
    "            return (rate, arr[:,0])\n",
    "        return (rate, arr)\n",
    "    \n",
    "    raise AttributeError(\"Audio must be .wav file\")\n",
    "\n",
    "def audio_to_spect(rate, audio, nperseg=256, noverlap=None):\n",
    "    \"\"\"\n",
    "    convert audio numpy array into a spectogram\n",
    "    \n",
    "    @input rate <int>: sample rate of wav file\n",
    "    @input audio <np.array>: array format of audio\n",
    "    @input nperseg <int>: number of \n",
    "    \n",
    "    @return (f, t, Zxx) <tuple>\n",
    "    f <np.array>: Array of sample frequencies\n",
    "    t <np.array>: Array of segment times\n",
    "    Zxx <np.array>: 2D array of spectogram\n",
    "    \"\"\"\n",
    "#     print(signal.check_COLA(\"hamming\", nperseg, nperseg//2, tol= 1e-10))\n",
    "    return signal.stft(audio, window=\"hamming\", fs=rate, nperseg=nperseg, noverlap=nperseg//2)\n",
    "\n",
    "def spect_to_audio(rate, spect, nperseg=256, noverlap=None):\n",
    "    \"\"\"\n",
    "    convert a spectogram array into an audio array\n",
    "    \n",
    "    @input spect <int>: sample rate of wav file\n",
    "    @input spect <np.array>: 2D array of spectogram\n",
    "    @input nperseg <int>: number of datapoints corresponding to each SFFT segment\n",
    "\n",
    "    @return (t, x) <tuple>\n",
    "    t <np.array>: array of output data times\n",
    "    x <np.array>: array format of audio; iSTFT of Zxx\n",
    "    \"\"\"\n",
    "    return signal.istft(spect, rate, window= \"hamming\", nperseg=nperseg, noverlap = nperseg//2)\n",
    "\n",
    "def save_audio(audio, rate, filename):\n",
    "    \"\"\"\n",
    "    save the audio array into a wav file\n",
    "    \n",
    "    @input audio <np.array>: array of audio\n",
    "    @input rate <int>: sampling rate\n",
    "    @input filename <string>: file location to save to\n",
    "    \n",
    "    @return None\n",
    "    \"\"\"\n",
    "    scipy.io.wavfile.write(filename, rate, audio)\n",
    "    \n",
    "def voss(nrows, ncols=16):\n",
    "    \"\"\"Generates pink noise using the Voss-McCartney algorithm.\n",
    "    \n",
    "    nrows: number of values to generate\n",
    "    rcols: number of random sources to add\n",
    "    \n",
    "    returns: NumPy array\n",
    "    \"\"\"\n",
    "    array = np.empty((nrows, ncols))\n",
    "    array.fill(np.nan)\n",
    "    array[0, :] = np.random.random(ncols)\n",
    "    array[:, 0] = np.random.random(nrows)\n",
    "    \n",
    "    # the total number of changes is nrows\n",
    "    n = nrows\n",
    "    cols = np.random.geometric(0.5, n)\n",
    "    cols[cols >= ncols] = 0\n",
    "    rows = np.random.randint(nrows, size=n)\n",
    "    array[rows, cols] = np.random.random(n)\n",
    "\n",
    "    df = pd.DataFrame(array)\n",
    "    df.fillna(method='ffill', axis=0, inplace=True)\n",
    "    total = df.sum(axis=1)\n",
    "\n",
    "    return total.values"
   ]
  },
  {
   "cell_type": "code",
   "execution_count": 82,
   "metadata": {
    "collapsed": true
   },
   "outputs": [],
   "source": [
    "def add_noise(audio):\n",
    "    \"\"\" Takes in clean version of audio in np.array (type: int16) \n",
    "    and returns a \"noisy\" version (with randomly weighted pink noise influence)\n",
    "    \"\"\"\n",
    "    noise = voss(len(audio)) * 700\n",
    "    weight = np.random.uniform(0,.3)\n",
    "    audio = audio * (1 - weight) + noise * weight\n",
    "    return audio.astype(np.int16)\n",
    "    "
   ]
  },
  {
   "cell_type": "code",
   "execution_count": 86,
   "metadata": {
    "collapsed": false,
    "scrolled": false
   },
   "outputs": [
    {
     "name": "stdout",
     "output_type": "stream",
     "text": [
      ".wav\n",
      "[  15   15   15 ..., -106 -114 -129]\n"
     ]
    },
    {
     "name": "stderr",
     "output_type": "stream",
     "text": [
      "//anaconda/lib/python3.5/site-packages/scipy/io/wavfile.py:273: WavFileWarning: Chunk (non-data) not understood, skipping it.\n",
      "  WavFileWarning)\n"
     ]
    },
    {
     "data": {
      "image/png": "[encoded data removed]",
      "text/plain": [
       "<matplotlib.figure.Figure at 0x10df74668>"
      ]
     },
     "metadata": {},
     "output_type": "display_data"
    },
    {
     "name": "stdout",
     "output_type": "stream",
     "text": [
      "(51, 1110)\n",
      "[2880 2897 2845 3138 3293 3447 3681 3382 3640 3258 3238 3041 3021 2924 3581\n",
      " 3500 3250 3319 3559 3333 2938 3015 3020 3896 3207 3637 3301 3347 3543 3772\n",
      " 3969 3974 3957 3796 3749 3194 3339 3418 3427 3488 3889 3896 3680 3628 3393\n",
      " 3283 3258 3343 3834 3472 3154 3610 3688 3405 3397 3184 3200 3298 3541 3132\n",
      " 3254 3302 3404 3402 3283 3242 3088 3234 3466 3758 3167 3690 3431 3703 3846\n",
      " 3430 3227 2718 2854 3467 3611 3347 3144 3545 3190 3088 3049 2840 3337 3313\n",
      " 3477 3232 3768 3853 3871 3576 3821 3615 3885 2956]\n",
      "[3378 2913 3001 3098 2742 2865 3310 2897 3004 3001 3476 3012 2897 2984 2858\n",
      " 2707 2994 3038 2997 2917 2927 3123 2890 2792 3077 2867 2880 2898 2845 3138\n",
      " 3294 3447 3681 3382 3641 3258 3238 3042 3021 2924 3581 3500 3251 3319 3559\n",
      " 3333 2938 3015 3020 3897 3207 3638 3301 3347 3543 3772 3969 3974 3958 3796\n",
      " 3749 3194 3339 3419 3427 3488 3890 3896 3680 3628 3394 3283 3258 3344 3834\n",
      " 3472 3154 3611 3688 3405 3398 3185 3200 3299 3542 3132 3254 3303 3405 3402\n",
      " 3284 3242 3089 3235 3466 3758 3168 3690 3432 3704]\n",
      "(55424,)\n",
      "(55424,)\n"
     ]
    },
    {
     "data": {
      "image/png": "[encoded data removed]",
      "text/plain": [
       "<matplotlib.figure.Figure at 0x10a2e2fd0>"
      ]
     },
     "metadata": {},
     "output_type": "display_data"
    }
   ],
   "source": [
    "audio_loc = \"AhCmonNowBaby.wav\"\n",
    "nperseg = 100\n",
    "\n",
    "rate, audio = audio_to_numpy(audio_loc)\n",
    "print(audio)\n",
    "save_audio(audio, rate, \"test33.wav\")\n",
    "# noise = (np.random.normal(0, .1, len(audio)))*5000\n",
    "#noise = voss(len(audio))*700\n",
    "\n",
    "#noise = noise.astype(np.int16)\n",
    "#print(noise)\n",
    "#audio = audio + noise\n",
    "#print(audio)\n",
    "audio = add_noise(audio)\n",
    "save_audio(audio, rate, \"test45.wav\")\n",
    "\n",
    "\n",
    "f, t, Zxx = audio_to_spect(rate, audio, nperseg)\n",
    "\n",
    "# noise = [np.random.normal(0, .1, len(Zxx[0]))*100 for _ in range(15)\n",
    "#             ]\n",
    "\n",
    "# noise.extend([np.random.normal(0, 0, len(Zxx[0]))*10 for _ in range(len(Zxx)-15)])\n",
    "\n",
    "# noise = np.array(noise)\n",
    "# Zxx = Zxx*.7 + noise*0\n",
    "plt.figure()\n",
    "\n",
    "amp = 2 * np.sqrt(2)\n",
    "plt.pcolormesh(t, f, np.abs(Zxx), vmin=0, vmax=amp)\n",
    "plt.ylim([f[1], f[-1]])\n",
    "plt.show()\n",
    "# print(audio.shape)\n",
    "# print(Zxx)\n",
    "# print(\"t:\" + str(t.shape))\n",
    "print(Zxx.shape)\n",
    "t, new_audio = spect_to_audio(rate, Zxx, nperseg)\n",
    "new_audio = new_audio[new_audio.size - audio.size:]\n",
    "new_audio = new_audio.astype(np.int16)\n",
    "\n",
    "print(new_audio[:100])\n",
    "print(audio[:100])\n",
    "save_audio(new_audio, rate, \"test51.wav\")\n",
    "steps = range(55424)\n",
    "print(audio.shape)\n",
    "print(new_audio.shape)\n",
    "\n",
    "plt.figure()\n",
    "plt.plot(steps, audio, steps, new_audio)\n",
    "plt.xlabel('Time [sec]')\n",
    "plt.ylabel('Signal')\n",
    "plt.show()"
   ]
  },
  {
   "cell_type": "code",
   "execution_count": 84,
   "metadata": {
    "collapsed": false
   },
   "outputs": [
    {
     "name": "stdout",
     "output_type": "stream",
     "text": [
      "17800\n"
     ]
    }
   ],
   "source": [
    "print(50 * 356)"
   ]
  },
  {
   "cell_type": "code",
   "execution_count": null,
   "metadata": {
    "collapsed": true
   },
   "outputs": [],
   "source": []
  },
  {
   "cell_type": "code",
   "execution_count": 85,
   "metadata": {
    "collapsed": false
   },
   "outputs": [
    {
     "name": "stdout",
     "output_type": "stream",
     "text": [
      "(51, 1110)\n"
     ]
    }
   ],
   "source": [
    "print(Zxx.shape)"
   ]
  },
  {
   "cell_type": "code",
   "execution_count": null,
   "metadata": {
    "collapsed": false
   },
   "outputs": [],
   "source": []
  },
  {
   "cell_type": "code",
   "execution_count": null,
   "metadata": {
    "collapsed": true
   },
   "outputs": [],
   "source": []
  },
  {
   "cell_type": "code",
   "execution_count": null,
   "metadata": {
    "collapsed": true
   },
   "outputs": [],
   "source": []
  },
  {
   "cell_type": "code",
   "execution_count": null,
   "metadata": {
    "collapsed": true
   },
   "outputs": [],
   "source": []
  }
 ],
 "metadata": {
  "anaconda-cloud": {},
  "kernelspec": {
   "display_name": "Python [conda root]",
   "language": "python",
   "name": "conda-root-py"
  },
  "language_info": {
   "codemirror_mode": {
    "name": "ipython",
    "version": 3
   },
   "file_extension": ".py",
   "mimetype": "text/x-python",
   "name": "python",
   "nbconvert_exporter": "python",
   "pygments_lexer": "ipython3",
   "version": "3.5.2"
  }
 },
 "nbformat": 4,
 "nbformat_minor": 2
}
