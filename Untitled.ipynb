{
 "cells": [
  {
   "cell_type": "code",
   "execution_count": 135,
   "metadata": {
    "collapsed": false
   },
   "outputs": [],
   "source": [
    "import numpy as np\n",
    "import scipy\n",
    "import scipy.io.wavfile\n",
    "from scipy import signal\n",
    "\n",
    "import matplotlib.pyplot as plt\n",
    "\n",
    "def audio_to_numpy(audio, mono=True):\n",
    "    \"\"\"\n",
    "    convert audio file into a numpy array\n",
    "\n",
    "    @input audio <string>: audio file location\n",
    "    @input mono <bool>: True if compress to mono, False to keep stereo\n",
    "    \n",
    "    @return (rate, audio) <tuple>\n",
    "    rate <int>: sample rate of wav file\n",
    "    audio <np.array>: array format of audio\n",
    "    \"\"\"\n",
    "    print(audio[-4:])\n",
    "    if (audio[-4:] == \".wav\"):\n",
    "        rate, arr = scipy.io.wavfile.read(audio)\n",
    "        if (mono):\n",
    "#             return (rate, arr.sum(axis=1) / 2)\n",
    "            return (rate, arr[:,0])\n",
    "        return (rate, arr)\n",
    "    \n",
    "    raise AttributeError(\"Audio must be .wav file\")\n",
    "\n",
    "def audio_to_spect(rate, audio, nperseg=256, noverlap=None):\n",
    "    \"\"\"\n",
    "    convert audio numpy array into a spectogram\n",
    "    \n",
    "    @input rate <int>: sample rate of wav file\n",
    "    @input audio <np.array>: array format of audio\n",
    "    @input nperseg <int>: number of \n",
    "    \n",
    "    @return (f, t, Zxx) <tuple>\n",
    "    f <np.array>: Array of sample frequencies\n",
    "    t <np.array>: Array of segment times\n",
    "    Zxx <np.array>: 2D array of spectogram\n",
    "    \"\"\"\n",
    "    print(signal.check_COLA(\"hamming\", nperseg, nperseg//2, tol= 1e-10))\n",
    "    return signal.stft(audio, window=\"hamming\", fs=rate, nperseg=nperseg, noverlap=nperseg//2)\n",
    "\n",
    "def spect_to_audio(rate, spect, nperseg=256, noverlap=None):\n",
    "    \"\"\"\n",
    "    convert a spectogram array into an audio array\n",
    "    \n",
    "    @input spect <int>: sample rate of wav file\n",
    "    @input spect <np.array>: 2D array of spectogram\n",
    "    @input nperseg <int>: number of datapoints corresponding to each SFFT segment\n",
    "\n",
    "    @return (t, x) <tuple>\n",
    "    t <np.array>: array of output data times\n",
    "    x <np.array>: array format of audio; iSTFT of Zxx\n",
    "    \"\"\"\n",
    "    return signal.istft(spect, rate, window= \"hamming\", nperseg=nperseg, noverlap = nperseg//2)\n",
    "\n",
    "def save_audio(audio, rate, filename):\n",
    "    \"\"\"\n",
    "    save the audio array into a wav file\n",
    "    \n",
    "    @input audio <np.array>: array of audio\n",
    "    @input rate <int>: sampling rate\n",
    "    @input filename <string>: file location to save to\n",
    "    \n",
    "    @return None\n",
    "    \"\"\"\n",
    "    scipy.io.wavfile.write(filename, rate, audio)"
   ]
  },
  {
   "cell_type": "code",
   "execution_count": 146,
   "metadata": {
    "collapsed": false
   },
   "outputs": [
    {
     "name": "stdout",
     "output_type": "stream",
     "text": [
      ".wav\n",
      "[  15   15   15 ..., -106 -114 -129]\n",
      "[500  86 171 ..., 103 386 266]\n",
      "True\n"
     ]
    },
    {
     "name": "stderr",
     "output_type": "stream",
     "text": [
      "/Users/arshzahed/anaconda/lib/python3.6/site-packages/scipy/io/wavfile.py:273: WavFileWarning: Chunk (non-data) not understood, skipping it.\n",
      "  WavFileWarning)\n"
     ]
    },
    {
     "data": {
      "image/png": "[encoded data removed]",
      "text/plain": [
       "<matplotlib.figure.Figure at 0x11f76e470>"
      ]
     },
     "metadata": {},
     "output_type": "display_data"
    },
    {
     "name": "stdout",
     "output_type": "stream",
     "text": [
      "(51, 1110)\n",
      "[396 303 164 104 126 270 301 299 122 392 355 411 409 254  32 294 144  12\n",
      "  27 395 315  57 222 125 480 266  55 127 193  72 426 230 491 489 372 135\n",
      " 438 505 190  21 117 160  98  95 235  21 395 287 355 430  43  29 491 402\n",
      " 274 129  32 495 204 455 124 441  86 268 108 459  86 397  35 455 156 286\n",
      " 272 175 115 313 139 486 323 378 340 369  43 393 207 340  57 392 144 498\n",
      " 320 487 258 483 316 347 433 174 331 120]\n",
      "[500  86 171 134 443 252  66 183  44  56  42 383 382 198 139 427 105 203\n",
      " 332 106 401 456 345 299 126 475 397 304 165 104 126 270 301 299 122 393\n",
      " 355 412 409 254  33 295 145  13  28 396 316  58 222 125 481 266  55 127\n",
      " 194  72 426 230 491 490 373 136 438 506 191  22 118 161  99  96 236  21\n",
      " 396 287 355 430  43  29 491 403 274 129  32 495 204 455 124 441  86 268\n",
      " 109 460  86 398  36 456 157 287 272 176]\n",
      "(55424,)\n",
      "(55424,)\n"
     ]
    },
    {
     "data": {
      "image/png": "[encoded data removed]",
      "text/plain": [
       "<matplotlib.figure.Figure at 0x10956da20>"
      ]
     },
     "metadata": {},
     "output_type": "display_data"
    }
   ],
   "source": [
    "audio_loc = \"AhCmonNowBaby.wav\"\n",
    "nperseg = 100\n",
    "\n",
    "rate, audio = audio_to_numpy(audio_loc)\n",
    "print(audio)\n",
    "save_audio(audio, rate, \"test3.wav\")\n",
    "noise = (np.random.rand(len(audio)))*5000\n",
    "\n",
    "audio = (audio*.9 + noise*.1).astype(int)\n",
    "print(audio)\n",
    "# save_audio(audio, rate, \"test5.wav\")\n",
    "\n",
    "\n",
    "f, t, Zxx = audio_to_spect(rate, audio, nperseg)\n",
    "\n",
    "plt.figure()\n",
    "amp = 2 * np.sqrt(2)\n",
    "plt.pcolormesh(t, f, np.abs(Zxx), vmin=0, vmax=amp)\n",
    "plt.ylim([f[1], f[-1]])\n",
    "plt.show()\n",
    "# print(audio.shape)\n",
    "# print(Zxx)\n",
    "# print(\"t:\" + str(t.shape))\n",
    "print(Zxx.shape)\n",
    "t, new_audio = spect_to_audio(rate, Zxx, nperseg)\n",
    "new_audio = new_audio[new_audio.size - audio.size:]\n",
    "new_audio = new_audio.astype(int)\n",
    "\n",
    "print(new_audio[:100])\n",
    "print(audio[:100])\n",
    "save_audio(new_audio, rate, \"test4.wav\")\n",
    "steps = range(55424)\n",
    "print(audio.shape)\n",
    "print(new_audio.shape)\n",
    "\n",
    "plt.figure()\n",
    "plt.plot(steps, audio, steps, new_audio)\n",
    "plt.xlabel('Time [sec]')\n",
    "plt.ylabel('Signal')\n",
    "plt.show()"
   ]
  },
  {
   "cell_type": "code",
   "execution_count": 130,
   "metadata": {
    "collapsed": false
   },
   "outputs": [
    {
     "name": "stdout",
     "output_type": "stream",
     "text": [
      "17800\n"
     ]
    }
   ],
   "source": [
    "print(50 * 356)"
   ]
  },
  {
   "cell_type": "code",
   "execution_count": 73,
   "metadata": {
    "collapsed": true
   },
   "outputs": [],
   "source": []
  },
  {
   "cell_type": "code",
   "execution_count": 123,
   "metadata": {
    "collapsed": false
   },
   "outputs": [
    {
     "name": "stdout",
     "output_type": "stream",
     "text": [
      "(51, 1110)\n"
     ]
    }
   ],
   "source": [
    "print(Zxx.shape)"
   ]
  },
  {
   "cell_type": "code",
   "execution_count": 125,
   "metadata": {
    "collapsed": false
   },
   "outputs": [
    {
     "name": "stdout",
     "output_type": "stream",
     "text": [
      "(51,)\n"
     ]
    }
   ],
   "source": []
  },
  {
   "cell_type": "code",
   "execution_count": null,
   "metadata": {
    "collapsed": true
   },
   "outputs": [],
   "source": []
  }
 ],
 "metadata": {
  "kernelspec": {
   "display_name": "Python 3",
   "language": "python",
   "name": "python3"
  },
  "language_info": {
   "codemirror_mode": {
    "name": "ipython",
    "version": 3
   },
   "file_extension": ".py",
   "mimetype": "text/x-python",
   "name": "python",
   "nbconvert_exporter": "python",
   "pygments_lexer": "ipython3",
   "version": "3.6.0"
  }
 },
 "nbformat": 4,
 "nbformat_minor": 2
}
