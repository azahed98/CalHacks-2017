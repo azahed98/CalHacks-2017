{
 "cells": [
  {
   "cell_type": "code",
   "execution_count": 42,
   "metadata": {
    "collapsed": false
   },
   "outputs": [],
   "source": [
    "import numpy as np\n",
    "import scipy\n",
    "import scipy.io.wavfile\n",
    "from scipy import signal\n",
    "import pandas as pd\n",
    "\n",
    "import matplotlib.pyplot as plt\n",
    "\n",
    "def audio_to_numpy(audio, mono=True):\n",
    "    \"\"\"\n",
    "    convert audio file into a numpy array\n",
    "\n",
    "    @input audio <string>: audio file location\n",
    "    @input mono <bool>: True if compress to mono, False to keep stereo\n",
    "    \n",
    "    @return (rate, audio) <tuple>\n",
    "    rate <int>: sample rate of wav file\n",
    "    audio <np.array>: array format of audio\n",
    "    \"\"\"\n",
    "    print(audio[-4:])\n",
    "    if (audio[-4:] == \".wav\"):\n",
    "        rate, arr = scipy.io.wavfile.read(audio)\n",
    "        if (mono):\n",
    "#             return (rate, arr.sum(axis=1) / 2)\n",
    "            return (rate, arr[:,0])\n",
    "        return (rate, arr)\n",
    "    \n",
    "    raise AttributeError(\"Audio must be .wav file\")\n",
    "\n",
    "def audio_to_spect(rate, audio, nperseg=256, noverlap=None):\n",
    "    \"\"\"\n",
    "    convert audio numpy array into a spectogram\n",
    "    \n",
    "    @input rate <int>: sample rate of wav file\n",
    "    @input audio <np.array>: array format of audio\n",
    "    @input nperseg <int>: number of \n",
    "    \n",
    "    @return (f, t, Zxx) <tuple>\n",
    "    f <np.array>: Array of sample frequencies\n",
    "    t <np.array>: Array of segment times\n",
    "    Zxx <np.array>: 2D array of spectogram\n",
    "    \"\"\"\n",
    "#     print(signal.check_COLA(\"hamming\", nperseg, nperseg//2, tol= 1e-10))\n",
    "    return signal.stft(audio, window=\"hamming\", fs=rate, nperseg=nperseg, noverlap=nperseg//2)\n",
    "\n",
    "def spect_to_audio(rate, spect, nperseg=256, noverlap=None):\n",
    "    \"\"\"\n",
    "    convert a spectogram array into an audio array\n",
    "    \n",
    "    @input spect <int>: sample rate of wav file\n",
    "    @input spect <np.array>: 2D array of spectogram\n",
    "    @input nperseg <int>: number of datapoints corresponding to each SFFT segment\n",
    "\n",
    "    @return (t, x) <tuple>\n",
    "    t <np.array>: array of output data times\n",
    "    x <np.array>: array format of audio; iSTFT of Zxx\n",
    "    \"\"\"\n",
    "    return signal.istft(spect, rate, window= \"hamming\", nperseg=nperseg, noverlap = nperseg//2)\n",
    "\n",
    "def save_audio(audio, rate, filename):\n",
    "    \"\"\"\n",
    "    save the audio array into a wav file\n",
    "    \n",
    "    @input audio <np.array>: array of audio\n",
    "    @input rate <int>: sampling rate\n",
    "    @input filename <string>: file location to save to\n",
    "    \n",
    "    @return None\n",
    "    \"\"\"\n",
    "    scipy.io.wavfile.write(filename, rate, audio)\n",
    "    \n",
    "def voss(nrows, ncols=16):\n",
    "    \"\"\"Generates pink noise using the Voss-McCartney algorithm.\n",
    "    \n",
    "    nrows: number of values to generate\n",
    "    rcols: number of random sources to add\n",
    "    \n",
    "    returns: NumPy array\n",
    "    \"\"\"\n",
    "    array = np.empty((nrows, ncols))\n",
    "    array.fill(np.nan)\n",
    "    array[0, :] = np.random.random(ncols)\n",
    "    array[:, 0] = np.random.random(nrows)\n",
    "    \n",
    "    # the total number of changes is nrows\n",
    "    n = nrows\n",
    "    cols = np.random.geometric(0.5, n)\n",
    "    cols[cols >= ncols] = 0\n",
    "    rows = np.random.randint(nrows, size=n)\n",
    "    array[rows, cols] = np.random.random(n)\n",
    "\n",
    "    df = pd.DataFrame(array)\n",
    "    df.fillna(method='ffill', axis=0, inplace=True)\n",
    "    total = df.sum(axis=1)\n",
    "\n",
    "    return total.values"
   ]
  },
  {
   "cell_type": "code",
   "execution_count": 73,
   "metadata": {
    "collapsed": false,
    "scrolled": false
   },
   "outputs": [
    {
     "name": "stdout",
     "output_type": "stream",
     "text": [
      ".wav\n",
      "[  15   15   15 ..., -106 -114 -129]\n",
      "[3967 4248 3951 ..., 4327 4935 5398]\n",
      "[3982 4263 3966 ..., 4221 4821 5269]\n"
     ]
    },
    {
     "name": "stderr",
     "output_type": "stream",
     "text": [
      "//anaconda/lib/python3.5/site-packages/scipy/io/wavfile.py:273: WavFileWarning: Chunk (non-data) not understood, skipping it.\n",
      "  WavFileWarning)\n"
     ]
    },
    {
     "data": {
      "image/png": "[encoded data removed]",
      "text/plain": [
       "<matplotlib.figure.Figure at 0x10d162518>"
      ]
     },
     "metadata": {},
     "output_type": "display_data"
    },
    {
     "name": "stdout",
     "output_type": "stream",
     "text": [
      "(51, 1110)\n",
      "[4689 4134 4642 4407 4181 4729 4203 4021 4578 4145 4963 4745 4670 5007 4624\n",
      " 4270 4529 4282 4411 4592 4387 4532 4592 4964 4767 5082 4693 4639 4934 4591\n",
      " 4797 5222 4813 5269 4799 4935 4509 4782 4816 5478 6199 6449 6867 6848 6758\n",
      " 5643 6454 6415 6513 6049 6267 6107 6015 5604 5905 6334 6428 6483 6577 6461\n",
      " 6772 6884 6895 6493 6823 6574 6629 6651 6322 6479 6239 6075 6448 6201 6591\n",
      " 6492 5961 5912 5907 4997 5477 5758 5313 5644 5396 5049 5224 5430 5462 5546\n",
      " 5437 5732 5227 5318 5491 5714 5714 6077 5451 5647]\n",
      "[3982 4263 3966 4233 4457 4698 3893 4268 4187 4682 4445 4423 4601 5472 5708\n",
      " 5393 5847 4883 4827 4531 4638 4830 4674 4513 4547 4540 4689 4134 4642 4407\n",
      " 4181 4729 4203 4021 4578 4145 4963 4745 4670 5007 4624 4270 4530 4282 4411\n",
      " 4592 4387 4532 4592 4964 4767 5082 4693 4639 4934 4591 4797 5222 4814 5269\n",
      " 4799 4935 4509 4782 4816 5478 6199 6449 6867 6848 6758 5643 6454 6415 6513\n",
      " 6049 6267 6107 6015 5604 5905 6334 6428 6483 6578 6461 6772 6884 6895 6493\n",
      " 6823 6574 6630 6651 6322 6479 6239 6075 6448 6202]\n",
      "(55424,)\n",
      "(55424,)\n"
     ]
    },
    {
     "data": {
      "image/png": "[encoded data removed]",
      "text/plain": [
       "<matplotlib.figure.Figure at 0x10df42160>"
      ]
     },
     "metadata": {},
     "output_type": "display_data"
    }
   ],
   "source": [
    "audio_loc = \"AhCmonNowBaby.wav\"\n",
    "nperseg = 100\n",
    "\n",
    "rate, audio = audio_to_numpy(audio_loc)\n",
    "print(audio)\n",
    "save_audio(audio, rate, \"test33.wav\")\n",
    "# noise = (np.random.normal(0, .1, len(audio)))*5000\n",
    "noise = voss(len(audio))*700\n",
    "\n",
    "noise = noise.astype(np.int16)\n",
    "print(noise)\n",
    "audio = (audio + noise)\n",
    "print(audio)\n",
    "save_audio(audio, rate, \"test39.wav\")\n",
    "\n",
    "\n",
    "f, t, Zxx = audio_to_spect(rate, audio, nperseg)\n",
    "\n",
    "# noise = [np.random.normal(0, .1, len(Zxx[0]))*100 for _ in range(15)\n",
    "#             ]\n",
    "\n",
    "# noise.extend([np.random.normal(0, 0, len(Zxx[0]))*10 for _ in range(len(Zxx)-15)])\n",
    "\n",
    "# noise = np.array(noise)\n",
    "# Zxx = Zxx*.7 + noise*0\n",
    "plt.figure()\n",
    "\n",
    "amp = 2 * np.sqrt(2)\n",
    "plt.pcolormesh(t, f, np.abs(Zxx), vmin=0, vmax=amp)\n",
    "plt.ylim([f[1], f[-1]])\n",
    "plt.show()\n",
    "# print(audio.shape)\n",
    "# print(Zxx)\n",
    "# print(\"t:\" + str(t.shape))\n",
    "print(Zxx.shape)\n",
    "t, new_audio = spect_to_audio(rate, Zxx, nperseg)\n",
    "new_audio = new_audio[new_audio.size - audio.size:]\n",
    "new_audio = new_audio.astype(np.int16)\n",
    "\n",
    "print(new_audio[:100])\n",
    "print(audio[:100])\n",
    "save_audio(new_audio, rate, \"test51.wav\")\n",
    "steps = range(55424)\n",
    "print(audio.shape)\n",
    "print(new_audio.shape)\n",
    "\n",
    "plt.figure()\n",
    "plt.plot(steps, audio, steps, new_audio)\n",
    "plt.xlabel('Time [sec]')\n",
    "plt.ylabel('Signal')\n",
    "plt.show()"
   ]
  },
  {
   "cell_type": "code",
   "execution_count": 59,
   "metadata": {
    "collapsed": false
   },
   "outputs": [
    {
     "name": "stdout",
     "output_type": "stream",
     "text": [
      "17800\n"
     ]
    }
   ],
   "source": [
    "print(50 * 356)"
   ]
  },
  {
   "cell_type": "code",
   "execution_count": null,
   "metadata": {
    "collapsed": true
   },
   "outputs": [],
   "source": []
  },
  {
   "cell_type": "code",
   "execution_count": null,
   "metadata": {
    "collapsed": false
   },
   "outputs": [],
   "source": [
    "print(Zxx.shape)"
   ]
  },
  {
   "cell_type": "code",
   "execution_count": null,
   "metadata": {
    "collapsed": false
   },
   "outputs": [],
   "source": []
  },
  {
   "cell_type": "code",
   "execution_count": null,
   "metadata": {
    "collapsed": true
   },
   "outputs": [],
   "source": []
  }
 ],
 "metadata": {
  "anaconda-cloud": {},
  "kernelspec": {
   "display_name": "Python [conda root]",
   "language": "python",
   "name": "conda-root-py"
  },
  "language_info": {
   "codemirror_mode": {
    "name": "ipython",
    "version": 3
   },
   "file_extension": ".py",
   "mimetype": "text/x-python",
   "name": "python",
   "nbconvert_exporter": "python",
   "pygments_lexer": "ipython3",
   "version": "3.5.2"
  }
 },
 "nbformat": 4,
 "nbformat_minor": 2
}
